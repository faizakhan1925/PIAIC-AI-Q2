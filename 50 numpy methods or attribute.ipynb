{
 "cells": [
  {
   "cell_type": "markdown",
   "metadata": {},
   "source": [
    "# implentation of any 50 numpy methods or attribute codes in jupyter notebook"
   ]
  },
  {
   "cell_type": "code",
   "execution_count": 1,
   "metadata": {},
   "outputs": [],
   "source": [
    "import numpy as np"
   ]
  },
  {
   "cell_type": "code",
   "execution_count": 3,
   "metadata": {},
   "outputs": [
    {
     "name": "stdout",
     "output_type": "stream",
     "text": [
      "1.16.5\n"
     ]
    }
   ],
   "source": [
    "#1. print the version number\n",
    "print(np.__version__)"
   ]
  },
  {
   "cell_type": "code",
   "execution_count": 16,
   "metadata": {},
   "outputs": [
    {
     "name": "stdout",
     "output_type": "stream",
     "text": [
      "[0.+0.j 1.+0.j 2.+0.j 3.+0.j 4.+0.j 5.+0.j 6.+0.j 7.+0.j 8.+0.j 9.+0.j]\n"
     ]
    }
   ],
   "source": [
    "#2. Create a 1D array of numbers from 0 to 9\n",
    "arr=np.arange((10),dtype=complex)\n",
    "print(arr)"
   ]
  },
  {
   "cell_type": "code",
   "execution_count": 9,
   "metadata": {},
   "outputs": [
    {
     "name": "stdout",
     "output_type": "stream",
     "text": [
      "[[ True  True  True]\n",
      " [ True  True  True]\n",
      " [ True  True  True]]\n",
      "Alternate method\n",
      " [[ True  True  True]\n",
      " [ True  True  True]\n",
      " [ True  True  True]]\n"
     ]
    }
   ],
   "source": [
    "#3.How to create a boolean array?\n",
    "arr=np.full((3,3),True,dtype=bool)\n",
    "print(arr)\n",
    "# Alternate method:\n",
    "arr=np.ones((3,3), dtype=bool)\n",
    "print(\"Alternate method\\n\",arr)"
   ]
  },
  {
   "cell_type": "code",
   "execution_count": 10,
   "metadata": {},
   "outputs": [
    {
     "name": "stdout",
     "output_type": "stream",
     "text": [
      "[[ True  True  True]\n",
      " [ True  True  True]\n",
      " [ True  True  True]]\n",
      "(3, 3)\n"
     ]
    }
   ],
   "source": [
    "#4. Shape of array in question 3\n",
    "arr=np.full((3,3),True,dtype=bool)\n",
    "print(arr)\n",
    "print(arr.shape)"
   ]
  },
  {
   "cell_type": "code",
   "execution_count": 13,
   "metadata": {},
   "outputs": [
    {
     "name": "stdout",
     "output_type": "stream",
     "text": [
      "[[ True  True  True]\n",
      " [ True  True  True]\n",
      " [ True  True  True]]\n",
      "bool\n"
     ]
    }
   ],
   "source": [
    "#5. the type of the elements in the array in question 3\n",
    "arr=np.full((3,3),True)\n",
    "print(arr)\n",
    "print(arr.dtype)"
   ]
  },
  {
   "cell_type": "code",
   "execution_count": 22,
   "metadata": {},
   "outputs": [
    {
     "name": "stdout",
     "output_type": "stream",
     "text": [
      "[[ 0  1  2  3]\n",
      " [ 4  5  6  7]\n",
      " [ 8  9 10 11]]\n",
      "mean= 5.5\n"
     ]
    }
   ],
   "source": [
    "#6. How to compute the mean\n",
    "a = np.arange(12).reshape(3,4)\n",
    "print(a)\n",
    "print(\"mean=\",np.mean(a))"
   ]
  },
  {
   "cell_type": "code",
   "execution_count": 21,
   "metadata": {},
   "outputs": [
    {
     "name": "stdout",
     "output_type": "stream",
     "text": [
      "[[ 0  1  2  3]\n",
      " [ 4  5  6  7]\n",
      " [ 8  9 10 11]]\n",
      "median= 5.5\n"
     ]
    }
   ],
   "source": [
    "#7. How to compute the median\n",
    "a = np.arange(12).reshape(3,4)\n",
    "print(a)\n",
    "print(\"median=\",np.median(a))"
   ]
  },
  {
   "cell_type": "code",
   "execution_count": 23,
   "metadata": {},
   "outputs": [
    {
     "name": "stdout",
     "output_type": "stream",
     "text": [
      "[[ 0  1  2  3]\n",
      " [ 4  5  6  7]\n",
      " [ 8  9 10 11]]\n",
      "average= 5.5\n"
     ]
    }
   ],
   "source": [
    "#8. How to compute the average\n",
    "a = np.arange(12).reshape(3,4)\n",
    "print(a)\n",
    "print(\"average=\",np.average(a))"
   ]
  },
  {
   "cell_type": "code",
   "execution_count": 24,
   "metadata": {},
   "outputs": [
    {
     "name": "stdout",
     "output_type": "stream",
     "text": [
      "[[ 0  1  2  3]\n",
      " [ 4  5  6  7]\n",
      " [ 8  9 10 11]]\n",
      "cumprod= [0 0 0 0 0 0 0 0 0 0 0 0]\n"
     ]
    }
   ],
   "source": [
    "#9. How to compute the cumprod\n",
    "a = np.arange(12).reshape(3,4)\n",
    "print(a)\n",
    "print(\"cumprod=\",np.cumprod(a))"
   ]
  },
  {
   "cell_type": "code",
   "execution_count": 25,
   "metadata": {},
   "outputs": [
    {
     "name": "stdout",
     "output_type": "stream",
     "text": [
      "[[ 0  1  2  3]\n",
      " [ 4  5  6  7]\n",
      " [ 8  9 10 11]]\n",
      "prod= 0\n"
     ]
    }
   ],
   "source": [
    "#10. How to compute the prod\n",
    "a = np.arange(12).reshape(3,4)\n",
    "print(a)\n",
    "print(\"prod=\",np.prod(a))"
   ]
  },
  {
   "cell_type": "code",
   "execution_count": 33,
   "metadata": {},
   "outputs": [
    {
     "name": "stdout",
     "output_type": "stream",
     "text": [
      "[19.43637026 30.04746465 31.8671519   7.98741541 46.75822367 47.37261416\n",
      " 30.51253623 20.00054774 18.7962122  11.01291857 14.56148801 13.08025818\n",
      "  9.50679209 48.36387503 47.89361742 30.30071053 36.8337369  17.67887592\n",
      "  5.51072457 23.71140293]\n",
      "[36.8337369  46.75822367 47.37261416 47.89361742 48.36387503]\n"
     ]
    }
   ],
   "source": [
    "#11. Get the positions of top 5 maximum values in a given array a.\n",
    "a = np.random.uniform(1,50, 20)\n",
    "print(a)\n",
    "print(a[a.argsort()][-5:])"
   ]
  },
  {
   "cell_type": "code",
   "execution_count": 35,
   "metadata": {},
   "outputs": [
    {
     "name": "stdout",
     "output_type": "stream",
     "text": [
      "[39.13617156 39.20032153 30.90607951 16.14101708 35.18901047 43.12129649\n",
      " 31.64086413 49.13798365 48.84850622  9.16801243  2.13572869  8.87648288\n",
      " 46.25134444 47.72394264 11.33794252 18.66573729 27.91938782 14.31971161\n",
      " 23.56947943 35.11191668]\n",
      "[[ 2.13572869  8.87648288  9.16801243 11.33794252 14.31971161 16.14101708\n",
      "  18.66573729 23.56947943 27.91938782 30.90607951 31.64086413 35.11191668\n",
      "  35.18901047 39.13617156 39.20032153 43.12129649 46.25134444 47.72394264\n",
      "  48.84850622 49.13798365]]\n"
     ]
    }
   ],
   "source": [
    "#12. sort the array\n",
    "a = np.random.uniform(1,50, 20)\n",
    "print(a)\n",
    "print(a[a.sort()])"
   ]
  },
  {
   "cell_type": "code",
   "execution_count": 38,
   "metadata": {},
   "outputs": [
    {
     "name": "stdout",
     "output_type": "stream",
     "text": [
      "[11.20215477 23.11167258 25.1003026  45.05473942 36.73866259 38.73439887\n",
      " 19.39652313 17.84323723 33.09672509 35.84086167  6.56334119  7.51840578\n",
      " 23.34591382  8.82707528 48.12045328 42.0431715  26.48787366 11.69534063\n",
      "  7.6110174  48.97444693]\n",
      "48.974446928709575\n"
     ]
    }
   ],
   "source": [
    "#13. argmax\n",
    "a = np.random.uniform(1,50, 20)\n",
    "print(a)\n",
    "print(a[np.argmax(a)])"
   ]
  },
  {
   "cell_type": "code",
   "execution_count": 39,
   "metadata": {},
   "outputs": [
    {
     "name": "stdout",
     "output_type": "stream",
     "text": [
      "[35.64513129 43.13880229 19.97145876 13.29086697 15.67246293 42.98788089\n",
      " 24.17621554 33.5005753  40.48070176 13.39604473  4.89909851 36.90526965\n",
      " 48.1084764  47.73643197 25.03445354 31.97741116 36.91675597 45.21806566\n",
      "  8.95009902 20.8881848 ]\n",
      "4.899098509545919\n"
     ]
    }
   ],
   "source": [
    "#14. argmin\n",
    "a = np.random.uniform(1,50, 20)\n",
    "print(a)\n",
    "print(a[np.argmin(a)])"
   ]
  },
  {
   "cell_type": "code",
   "execution_count": 50,
   "metadata": {},
   "outputs": [
    {
     "name": "stdout",
     "output_type": "stream",
     "text": [
      "[[13  1  4]\n",
      " [19  1  0]]\n",
      "[[ 6  3  3]\n",
      " [19 18  9]]\n",
      "[[  -9    9]\n",
      " [ -15 -171]\n",
      " [  33  323]]\n"
     ]
    }
   ],
   "source": [
    "#15. cross\n",
    "a = np.random.randint(20, size=[2,3])\n",
    "b = np.random.randint(20, size=[2,3])\n",
    "print(a)\n",
    "print(b)\n",
    "print(np.cross(a,b, axisc=0))"
   ]
  },
  {
   "cell_type": "code",
   "execution_count": 57,
   "metadata": {},
   "outputs": [
    {
     "name": "stdout",
     "output_type": "stream",
     "text": [
      "[[9 2 6]\n",
      " [2 8 2]\n",
      " [3 7 6]\n",
      " [8 5 8]\n",
      " [3 4 7]]\n",
      "[9 8 7 8 7]\n"
     ]
    }
   ],
   "source": [
    "#16. maximum for each row in the given array.\n",
    "a = np.random.randint(1,10, [5,3])\n",
    "print(a)\n",
    "print(np.max(a, axis=1))"
   ]
  },
  {
   "cell_type": "code",
   "execution_count": 58,
   "metadata": {},
   "outputs": [
    {
     "name": "stdout",
     "output_type": "stream",
     "text": [
      "[[3 3 5]\n",
      " [4 6 2]\n",
      " [6 2 4]\n",
      " [8 4 6]\n",
      " [6 1 5]]\n",
      "8\n"
     ]
    }
   ],
   "source": [
    "#16. maximum in the given array.\n",
    "a = np.random.randint(1,10, [5,3])\n",
    "print(a)\n",
    "print(np.max(a))"
   ]
  },
  {
   "cell_type": "code",
   "execution_count": 60,
   "metadata": {},
   "outputs": [
    {
     "name": "stdout",
     "output_type": "stream",
     "text": [
      "[[2 9 8]\n",
      " [6 5 1]\n",
      " [8 3 5]\n",
      " [9 3 1]\n",
      " [3 6 8]]\n",
      "[9 9 8]\n"
     ]
    }
   ],
   "source": [
    "#17. maximum for each column in the given array.\n",
    "a = np.random.randint(1,10, [5,3])\n",
    "print(a)\n",
    "print(np.max(a, axis=0))"
   ]
  },
  {
   "cell_type": "code",
   "execution_count": 61,
   "metadata": {},
   "outputs": [
    {
     "name": "stdout",
     "output_type": "stream",
     "text": [
      "[ 1.  2.  3. nan  5.  6.  7. nan]\n",
      "[1. 2. 3. 5. 6. 7.]\n"
     ]
    }
   ],
   "source": [
    "#18.Drop all nan values from a 1D numpy array\n",
    "a = np.array([1,2,3,np.nan,5,6,7,np.nan])\n",
    "print(a)\n",
    "print(a[~np.isnan(a)])\n"
   ]
  },
  {
   "cell_type": "code",
   "execution_count": 62,
   "metadata": {},
   "outputs": [
    {
     "name": "stdout",
     "output_type": "stream",
     "text": [
      "[ 1.  2.  3. nan  5.  6.  7. nan]\n",
      "[nan nan]\n"
     ]
    }
   ],
   "source": [
    "#19.#18.Drop all non-nan values from a 1D numpy array\n",
    "a = np.array([1,2,3,np.nan,5,6,7,np.nan])\n",
    "print(a)\n",
    "print(a[np.isnan(a)])"
   ]
  },
  {
   "cell_type": "code",
   "execution_count": 64,
   "metadata": {},
   "outputs": [
    {
     "name": "stdout",
     "output_type": "stream",
     "text": [
      "[1 2 3 4 5]\n",
      "[4 5 6 7 8]\n",
      "6.708203932499369\n"
     ]
    }
   ],
   "source": [
    "#20. euclidean distance between two arrays a and b\n",
    "a = np.array([1,2,3,4,5])\n",
    "print(a)\n",
    "b = np.array([4,5,6,7,8])\n",
    "print(b)\n",
    "dist = np.linalg.norm(a-b)\n",
    "print(dist)"
   ]
  },
  {
   "cell_type": "code",
   "execution_count": 67,
   "metadata": {},
   "outputs": [
    {
     "name": "stdout",
     "output_type": "stream",
     "text": [
      "[[3 3 3]\n",
      " [4 4 4]\n",
      " [5 5 5]]\n",
      "[1 2 3]\n",
      "Ans: [[2 2 2]\n",
      " [2 2 2]\n",
      " [2 2 2]]\n"
     ]
    }
   ],
   "source": [
    "#21.  Subtract the 1d array b from the 2d array a, such that each item of b subtracts from respective row of a.\n",
    "a = np.array([[3,3,3],[4,4,4],[5,5,5]])\n",
    "print(a)\n",
    "b = np.array([1,2,3])\n",
    "print(b)\n",
    "print(\"Ans:\",a - b[:,None])"
   ]
  },
  {
   "cell_type": "code",
   "execution_count": 68,
   "metadata": {},
   "outputs": [
    {
     "name": "stdout",
     "output_type": "stream",
     "text": [
      "[[3 3 3]\n",
      " [4 4 4]\n",
      " [5 5 5]]\n",
      "[1 2 3]\n",
      "Ans: [[4 4 4]\n",
      " [6 6 6]\n",
      " [8 8 8]]\n"
     ]
    }
   ],
   "source": [
    "#22.  Add the 1d array b from the 2d array a, such that each item of b adds from respective row of a.\n",
    "a = np.array([[3,3,3],[4,4,4],[5,5,5]])\n",
    "print(a)\n",
    "b = np.array([1,2,3])\n",
    "print(b)\n",
    "print(\"Ans:\",a + b[:,None])"
   ]
  },
  {
   "cell_type": "code",
   "execution_count": 69,
   "metadata": {},
   "outputs": [
    {
     "name": "stdout",
     "output_type": "stream",
     "text": [
      "[[3 3 3]\n",
      " [4 4 4]\n",
      " [5 5 5]]\n",
      "[1 2 3]\n",
      "Ans: [[ 3  3  3]\n",
      " [ 8  8  8]\n",
      " [15 15 15]]\n"
     ]
    }
   ],
   "source": [
    "#23. prod the 1d array b_1d from the 2d array a_2d, such that each item of b_1d prod from respective row of a_2d.\n",
    "a = np.array([[3,3,3],[4,4,4],[5,5,5]])\n",
    "print(a)\n",
    "b = np.array([1,2,3])\n",
    "print(b)\n",
    "print(\"Ans:\",a * b[:,None])"
   ]
  },
  {
   "cell_type": "code",
   "execution_count": 70,
   "metadata": {},
   "outputs": [
    {
     "name": "stdout",
     "output_type": "stream",
     "text": [
      "[[3 3 3]\n",
      " [4 4 4]\n",
      " [5 5 5]]\n",
      "[1 2 3]\n",
      "Ans: [[3.         3.         3.        ]\n",
      " [2.         2.         2.        ]\n",
      " [1.66666667 1.66666667 1.66666667]]\n"
     ]
    }
   ],
   "source": [
    "#24. divide the 1d array b_1d from the 2d array a_2d, such that each item of b_1d divide from respective row of a_2d.\n",
    "a = np.array([[3,3,3],[4,4,4],[5,5,5]])\n",
    "print(a)\n",
    "b = np.array([1,2,3])\n",
    "print(b)\n",
    "print(\"Ans:\",a / b[:,None])"
   ]
  },
  {
   "cell_type": "code",
   "execution_count": 71,
   "metadata": {},
   "outputs": [
    {
     "name": "stdout",
     "output_type": "stream",
     "text": [
      "[[3 3 3]\n",
      " [4 4 4]\n",
      " [5 5 5]]\n",
      "[1 2 3]\n",
      "Ans: [[0 0 0]\n",
      " [0 0 0]\n",
      " [2 2 2]]\n"
     ]
    }
   ],
   "source": [
    "#25. mod the 1d array b_1d from the 2d array a_2d, such that each item of b_1d mod from respective row of a_2d.\n",
    "a = np.array([[3,3,3],[4,4,4],[5,5,5]])\n",
    "print(a)\n",
    "b = np.array([1,2,3])\n",
    "print(b)\n",
    "print(\"Ans:\",a % b[:,None])"
   ]
  },
  {
   "cell_type": "code",
   "execution_count": 78,
   "metadata": {},
   "outputs": [
    {
     "name": "stdout",
     "output_type": "stream",
     "text": [
      "[2 3 4 5]\n",
      "[8 5 4]\n",
      "[5 4 6 8 3]\n",
      "\n",
      "ax+bx*cx=\n",
      " [[[42 34 50 66 26]\n",
      "  [27 22 32 42 17]\n",
      "  [22 18 26 34 14]]\n",
      "\n",
      " [[43 35 51 67 27]\n",
      "  [28 23 33 43 18]\n",
      "  [23 19 27 35 15]]\n",
      "\n",
      " [[44 36 52 68 28]\n",
      "  [29 24 34 44 19]\n",
      "  [24 20 28 36 16]]\n",
      "\n",
      " [[45 37 53 69 29]\n",
      "  [30 25 35 45 20]\n",
      "  [25 21 29 37 17]]]\n"
     ]
    }
   ],
   "source": [
    "#26. ix_() function\n",
    "a = np.array([2,3,4,5])\n",
    "b = np.array([8,5,4])\n",
    "c = np.array([5,4,6,8,3])\n",
    "print(a)\n",
    "print(b)\n",
    "print(c)\n",
    "ax,bx,cx = np.ix_(a,b,c)\n",
    "result = ax+bx*cx\n",
    "print(\"\\nax+bx*cx=\\n\",result)"
   ]
  },
  {
   "cell_type": "code",
   "execution_count": 80,
   "metadata": {},
   "outputs": [
    {
     "name": "stdout",
     "output_type": "stream",
     "text": [
      "[[ 0  1  2  3  4]\n",
      " [ 5  6  7  8  9]\n",
      " [10 11 12 13 14]\n",
      " [15 16 17 18 19]\n",
      " [20 21 22 23 24]]\n",
      "[ 0  2  4  6  8 10 12 14 16 18 20 22 24]\n"
     ]
    }
   ],
   "source": [
    "#27.  Extract all even numbers from arr\n",
    "a=np.arange(25).reshape(5,5)\n",
    "print(a)\n",
    "b=a[a % 2 == 0]\n",
    "print(b)"
   ]
  },
  {
   "cell_type": "code",
   "execution_count": 91,
   "metadata": {},
   "outputs": [
    {
     "name": "stdout",
     "output_type": "stream",
     "text": [
      "[[ 0  1  2  3  4]\n",
      " [ 5  6  7  8  9]\n",
      " [10 11 12 13 14]\n",
      " [15 16 17 18 19]\n",
      " [20 21 22 23 24]]\n",
      "[[ 0 -1  2 -1  4]\n",
      " [-1  6 -1  8 -1]\n",
      " [10 -1 12 -1 14]\n",
      " [-1 16 -1 18 -1]\n",
      " [20 -1 22 -1 24]]\n"
     ]
    }
   ],
   "source": [
    "#28.  Replace all odd numbers in arr with -1\n",
    "a=np.arange(25).reshape(5,5)\n",
    "print(a)\n",
    "print(np.where(a % 2 == 1, -1, a))\n"
   ]
  },
  {
   "cell_type": "code",
   "execution_count": 93,
   "metadata": {},
   "outputs": [
    {
     "name": "stdout",
     "output_type": "stream",
     "text": [
      "[[ 0  1  2  3  4]\n",
      " [ 5  6  7  8  9]\n",
      " [10 11 12 13 14]\n",
      " [15 16 17 18 19]\n",
      " [20 21 22 23 24]]\n",
      "[[ 1  1  1  3  1]\n",
      " [ 5  1  7  1  9]\n",
      " [ 1 11  1 13  1]\n",
      " [15  1 17  1 19]\n",
      " [ 1 21  1 23  1]]\n"
     ]
    }
   ],
   "source": [
    "#28.  Replace all even numbers in arr with 1\n",
    "a=np.arange(25).reshape(5,5)\n",
    "print(a)\n",
    "print(np.where(a % 2 == 0, 1, a))"
   ]
  },
  {
   "cell_type": "code",
   "execution_count": 96,
   "metadata": {},
   "outputs": [
    {
     "name": "stdout",
     "output_type": "stream",
     "text": [
      "[[ 0  1  2  3  4]\n",
      " [ 5  6  7  8  9]\n",
      " [10 11 12 13 14]\n",
      " [15 16 17 18 19]\n",
      " [20 21 22 23 24]]\n",
      "4\n"
     ]
    }
   ],
   "source": [
    "#29. ndarray.itemsize (itemsize 4 (=32/8)\n",
    "a=np.arange(25).reshape(5,5)\n",
    "print(a)\n",
    "print(a.itemsize)"
   ]
  },
  {
   "cell_type": "code",
   "execution_count": 98,
   "metadata": {},
   "outputs": [
    {
     "name": "stdout",
     "output_type": "stream",
     "text": [
      "[[ 0  1  2  3  4]\n",
      " [ 5  6  7  8  9]\n",
      " [10 11 12 13 14]\n",
      " [15 16 17 18 19]\n",
      " [20 21 22 23 24]]\n",
      "int32\n"
     ]
    }
   ],
   "source": [
    "#30. a.dtype.name\n",
    "a=np.arange(25).reshape(5,5)\n",
    "print(a)\n",
    "print(a.dtype.name)"
   ]
  },
  {
   "cell_type": "code",
   "execution_count": 99,
   "metadata": {},
   "outputs": [
    {
     "name": "stdout",
     "output_type": "stream",
     "text": [
      "[[ 0  1  2  3  4]\n",
      " [ 5  6  7  8  9]\n",
      " [10 11 12 13 14]\n",
      " [15 16 17 18 19]\n",
      " [20 21 22 23 24]]\n",
      "2\n"
     ]
    }
   ],
   "source": [
    "#31 a.ndim, the number of axes (dimensions) of the array\n",
    "a=np.arange(25).reshape(5,5)\n",
    "print(a)\n",
    "print(a.ndim)"
   ]
  },
  {
   "cell_type": "code",
   "execution_count": 100,
   "metadata": {},
   "outputs": [
    {
     "name": "stdout",
     "output_type": "stream",
     "text": [
      "[[0. 0. 0. 0.]\n",
      " [0. 0. 0. 0.]\n",
      " [0. 0. 0. 0.]]\n"
     ]
    }
   ],
   "source": [
    "#32. zeros\n",
    "a=np.zeros((3,4))\n",
    "print(a)"
   ]
  },
  {
   "cell_type": "code",
   "execution_count": 101,
   "metadata": {},
   "outputs": [
    {
     "name": "stdout",
     "output_type": "stream",
     "text": [
      "[[1. 1. 1. 1.]\n",
      " [1. 1. 1. 1.]\n",
      " [1. 1. 1. 1.]]\n"
     ]
    }
   ],
   "source": [
    "#33. ones\n",
    "a=np.ones((3,4))\n",
    "print(a)"
   ]
  },
  {
   "cell_type": "code",
   "execution_count": 102,
   "metadata": {},
   "outputs": [
    {
     "name": "stdout",
     "output_type": "stream",
     "text": [
      "[0.  0.3 0.6 0.9 1.2 1.5 1.8]\n"
     ]
    }
   ],
   "source": [
    "#34 np.arange it accepts float arguments\n",
    "a=np.arange( 0, 2, 0.3 ) \n",
    "print(a)"
   ]
  },
  {
   "cell_type": "code",
   "execution_count": 104,
   "metadata": {},
   "outputs": [
    {
     "name": "stdout",
     "output_type": "stream",
     "text": [
      "[0.         0.06346652 0.12693304 0.19039955 0.25386607 0.31733259\n",
      " 0.38079911 0.44426563 0.50773215 0.57119866 0.63466518 0.6981317\n",
      " 0.76159822 0.82506474 0.88853126 0.95199777 1.01546429 1.07893081\n",
      " 1.14239733 1.20586385 1.26933037 1.33279688 1.3962634  1.45972992\n",
      " 1.52319644 1.58666296 1.65012947 1.71359599 1.77706251 1.84052903\n",
      " 1.90399555 1.96746207 2.03092858 2.0943951  2.15786162 2.22132814\n",
      " 2.28479466 2.34826118 2.41172769 2.47519421 2.53866073 2.60212725\n",
      " 2.66559377 2.72906028 2.7925268  2.85599332 2.91945984 2.98292636\n",
      " 3.04639288 3.10985939 3.17332591 3.23679243 3.30025895 3.36372547\n",
      " 3.42719199 3.4906585  3.55412502 3.61759154 3.68105806 3.74452458\n",
      " 3.8079911  3.87145761 3.93492413 3.99839065 4.06185717 4.12532369\n",
      " 4.1887902  4.25225672 4.31572324 4.37918976 4.44265628 4.5061228\n",
      " 4.56958931 4.63305583 4.69652235 4.75998887 4.82345539 4.88692191\n",
      " 4.95038842 5.01385494 5.07732146 5.14078798 5.2042545  5.26772102\n",
      " 5.33118753 5.39465405 5.45812057 5.52158709 5.58505361 5.64852012\n",
      " 5.71198664 5.77545316 5.83891968 5.9023862  5.96585272 6.02931923\n",
      " 6.09278575 6.15625227 6.21971879 6.28318531]\n"
     ]
    }
   ],
   "source": [
    "#35 linspace  # useful to evaluate function at lots of points\n",
    "from numpy import pi\n",
    "a=np.linspace( 0, 2*pi, 100 ) \n",
    "print(a)\n"
   ]
  },
  {
   "cell_type": "code",
   "execution_count": 106,
   "metadata": {},
   "outputs": [
    {
     "name": "stdout",
     "output_type": "stream",
     "text": [
      "[[1 1]\n",
      " [0 1]]\n",
      "[[2 0]\n",
      " [3 4]]\n",
      "dot: [[5 4]\n",
      " [3 4]]\n"
     ]
    }
   ],
   "source": [
    "#36 dot function\n",
    "A = np.array( [[1,1],[0,1]] )\n",
    "B = np.array( [[2,0],[3,4]] )\n",
    "print(A)\n",
    "print(B)\n",
    "print(\"dot:\",A.dot(B))"
   ]
  },
  {
   "cell_type": "code",
   "execution_count": 109,
   "metadata": {},
   "outputs": [
    {
     "name": "stdout",
     "output_type": "stream",
     "text": [
      "[[1 1]\n",
      " [0 1]]\n",
      "[[2 0]\n",
      " [3 4]]\n",
      "*elementwise product: [[2 0]\n",
      " [0 4]]\n"
     ]
    }
   ],
   "source": [
    "#37 * operates  elementwise product\n",
    "A = np.array( [[1,1],[0,1]] )\n",
    "B = np.array( [[2,0],[3,4]] )\n",
    "print(A)\n",
    "print(B)\n",
    "print(\"*elementwise product:\",A*B)"
   ]
  },
  {
   "cell_type": "code",
   "execution_count": 111,
   "metadata": {},
   "outputs": [
    {
     "name": "stdout",
     "output_type": "stream",
     "text": [
      "[[1 1]\n",
      " [0 1]]\n",
      "[[2 0]\n",
      " [3 4]]\n",
      "matrix product: [[5 4]\n",
      " [3 4]]\n"
     ]
    }
   ],
   "source": [
    "#38 matrix product\n",
    "A = np.array( [[1,1],[0,1]] )\n",
    "B = np.array( [[2,0],[3,4]] )\n",
    "print(A)\n",
    "print(B)\n",
    "print(\"matrix product:\",A@B)"
   ]
  },
  {
   "cell_type": "code",
   "execution_count": 115,
   "metadata": {},
   "outputs": [
    {
     "name": "stdout",
     "output_type": "stream",
     "text": [
      "[[0.82770259, 0.40919914, 0.54959369], [0.02755911, 0.75351311, 0.53814331]]\n",
      "3.10571095\n"
     ]
    }
   ],
   "source": [
    "#39 a.sum()\n",
    "a = ([[0.82770259, 0.40919914, 0.54959369],\n",
    "       [0.02755911, 0.75351311, 0.53814331]])\n",
    "print(a)\n",
    "print(np.sum(a))"
   ]
  },
  {
   "cell_type": "code",
   "execution_count": 119,
   "metadata": {},
   "outputs": [
    {
     "name": "stdout",
     "output_type": "stream",
     "text": [
      "[[0.82770259, 0.40919914, 0.54959369], [0.02755911, 0.75351311, 0.53814331]]\n",
      "0.82770259\n"
     ]
    }
   ],
   "source": [
    "#40 a.max()\n",
    "a = ([[0.82770259, 0.40919914, 0.54959369],\n",
    "       [0.02755911, 0.75351311, 0.53814331]])\n",
    "print(a)\n",
    "print(np.max(a))"
   ]
  },
  {
   "cell_type": "code",
   "execution_count": 120,
   "metadata": {},
   "outputs": [
    {
     "name": "stdout",
     "output_type": "stream",
     "text": [
      "[[0.82770259, 0.40919914, 0.54959369], [0.02755911, 0.75351311, 0.53814331]]\n",
      "0.02755911\n"
     ]
    }
   ],
   "source": [
    "#41 a.min()\n",
    "a = ([[0.82770259, 0.40919914, 0.54959369],\n",
    "       [0.02755911, 0.75351311, 0.53814331]])\n",
    "print(a)\n",
    "print(np.min(a))"
   ]
  },
  {
   "cell_type": "code",
   "execution_count": 121,
   "metadata": {},
   "outputs": [
    {
     "name": "stdout",
     "output_type": "stream",
     "text": [
      "[[0.82770259, 0.40919914, 0.54959369], [0.02755911, 0.75351311, 0.53814331]]\n",
      "[[1. 0. 1.]\n",
      " [0. 1. 1.]]\n"
     ]
    }
   ],
   "source": [
    "#42 a.round()\n",
    "a = ([[0.82770259, 0.40919914, 0.54959369],\n",
    "       [0.02755911, 0.75351311, 0.53814331]])\n",
    "print(a)\n",
    "print(np.round(a))"
   ]
  },
  {
   "cell_type": "code",
   "execution_count": 123,
   "metadata": {},
   "outputs": [
    {
     "name": "stdout",
     "output_type": "stream",
     "text": [
      "[[0.82770259, 0.40919914, 0.54959369], [0.02755911, 0.75351311, 0.53814331]]\n",
      "[[0.90978162 0.63968675 0.74134586]\n",
      " [0.16600937 0.86805133 0.73358252]]\n"
     ]
    }
   ],
   "source": [
    "#43 a.sqrt()\n",
    "a = ([[0.82770259, 0.40919914, 0.54959369],\n",
    "       [0.02755911, 0.75351311, 0.53814331]])\n",
    "print(a)\n",
    "print(np.sqrt(a))"
   ]
  },
  {
   "cell_type": "code",
   "execution_count": 124,
   "metadata": {},
   "outputs": [
    {
     "name": "stdout",
     "output_type": "stream",
     "text": [
      "[[0.82770259, 0.40919914, 0.54959369], [0.02755911, 0.75351311, 0.53814331]]\n",
      "1.5812157\n"
     ]
    }
   ],
   "source": [
    "#44 a.trace()\n",
    "a = ([[0.82770259, 0.40919914, 0.54959369],\n",
    "       [0.02755911, 0.75351311, 0.53814331]])\n",
    "print(a)\n",
    "print(np.trace(a))"
   ]
  },
  {
   "cell_type": "code",
   "execution_count": 125,
   "metadata": {},
   "outputs": [
    {
     "name": "stdout",
     "output_type": "stream",
     "text": [
      "[[0.82770259, 0.40919914, 0.54959369], [0.02755911, 0.75351311, 0.53814331]]\n",
      "[[0.82770259 0.02755911]\n",
      " [0.40919914 0.75351311]\n",
      " [0.54959369 0.53814331]]\n"
     ]
    }
   ],
   "source": [
    "#45 a.transpose()\n",
    "a = ([[0.82770259, 0.40919914, 0.54959369],\n",
    "       [0.02755911, 0.75351311, 0.53814331]])\n",
    "print(a)\n",
    "print(np.transpose(a))"
   ]
  },
  {
   "cell_type": "code",
   "execution_count": 126,
   "metadata": {},
   "outputs": [
    {
     "name": "stdout",
     "output_type": "stream",
     "text": [
      "[[0.82770259, 0.40919914, 0.54959369], [0.02755911, 0.75351311, 0.53814331]]\n",
      "[[ 1.         -0.99908168]\n",
      " [-0.99908168  1.        ]]\n"
     ]
    }
   ],
   "source": [
    "#46 a.corrcoef()\n",
    "a = ([[0.82770259, 0.40919914, 0.54959369],\n",
    "       [0.02755911, 0.75351311, 0.53814331]])\n",
    "print(a)\n",
    "print(np.corrcoef(a))"
   ]
  },
  {
   "cell_type": "code",
   "execution_count": 127,
   "metadata": {},
   "outputs": [
    {
     "name": "stdout",
     "output_type": "stream",
     "text": [
      "[[0.82770259, 0.40919914, 0.54959369], [0.02755911, 0.75351311, 0.53814331]]\n",
      "[[0. 0. 0.]\n",
      " [0. 0. 0.]]\n"
     ]
    }
   ],
   "source": [
    "#47 a.floor()\n",
    "a = ([[0.82770259, 0.40919914, 0.54959369],\n",
    "       [0.02755911, 0.75351311, 0.53814331]])\n",
    "print(a)\n",
    "print(np.floor(a))"
   ]
  },
  {
   "cell_type": "code",
   "execution_count": 129,
   "metadata": {},
   "outputs": [
    {
     "name": "stdout",
     "output_type": "stream",
     "text": [
      "[  0   1   8  27  64 125 216 343 512 729]\n",
      "[ 8 27 64]\n"
     ]
    }
   ],
   "source": [
    "#48 slicing\n",
    "a = np.arange(10)**3\n",
    "print(a)\n",
    "print(a[2:5])"
   ]
  },
  {
   "cell_type": "code",
   "execution_count": 131,
   "metadata": {},
   "outputs": [
    {
     "name": "stdout",
     "output_type": "stream",
     "text": [
      "[  0   1   8  27  64 125 216 343 512 729]\n",
      "[  0   1   8  27  64 125 216 343 512 729]\n"
     ]
    }
   ],
   "source": [
    "#49 np.ravel(a)\n",
    "a = np.arange(10)**3\n",
    "print(a)\n",
    "print(np.ravel(a)) # returns the array, flattened"
   ]
  },
  {
   "cell_type": "code",
   "execution_count": 143,
   "metadata": {},
   "outputs": [
    {
     "name": "stdout",
     "output_type": "stream",
     "text": [
      "[[6.0, 7.0, 6.0, 9.0, 0.0, 5.0, 4.0, 0.0, 6.0, 8.0, 5.0, 2.0], [8.0, 5.0, 5.0, 7.0, 1.0, 8.0, 6.0, 7.0, 1.0, 8.0, 1.0, 0.0]]\n",
      "[[6.0, 7.0, 6.0, 9.0, 0.0, 5.0, 4.0, 0.0, 6.0, 8.0, 5.0, 2.0], [8.0, 5.0, 5.0, 7.0, 1.0, 8.0, 6.0, 7.0, 1.0, 8.0, 1.0, 0.0]]\n"
     ]
    }
   ],
   "source": [
    "#50 Deep Copy¶\n",
    "a= ([[6., 7., 6., 9., 0., 5., 4., 0., 6., 8., 5., 2.],\n",
    "       [8., 5., 5., 7., 1., 8., 6., 7., 1., 8., 1., 0.]])\n",
    "print(a)\n",
    "c=a.copy()\n",
    "print(c)"
   ]
  },
  {
   "cell_type": "markdown",
   "metadata": {},
   "source": [
    "# END"
   ]
  }
 ],
 "metadata": {
  "kernelspec": {
   "display_name": "Python 3",
   "language": "python",
   "name": "python3"
  },
  "language_info": {
   "codemirror_mode": {
    "name": "ipython",
    "version": 3
   },
   "file_extension": ".py",
   "mimetype": "text/x-python",
   "name": "python",
   "nbconvert_exporter": "python",
   "pygments_lexer": "ipython3",
   "version": "3.7.4"
  }
 },
 "nbformat": 4,
 "nbformat_minor": 2
}
