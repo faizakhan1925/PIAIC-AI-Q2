{
 "cells": [
  {
   "cell_type": "markdown",
   "metadata": {},
   "source": [
    "# Numpy_Assignment_2::"
   ]
  },
  {
   "cell_type": "code",
   "execution_count": 1,
   "metadata": {},
   "outputs": [],
   "source": [
    "import numpy as np"
   ]
  },
  {
   "cell_type": "code",
   "execution_count": 3,
   "metadata": {},
   "outputs": [
    {
     "name": "stdout",
     "output_type": "stream",
     "text": [
      "1D Numpy array:\n",
      "[0 1 2 3 4 5 6 7 8 9]\n",
      "2-d array [[0 1 2 3 4]\n",
      " [5 6 7 8 9]]\n"
     ]
    }
   ],
   "source": [
    "#Question:1\n",
    "#Convert a 1D array to a 2D array with 2 rows?\n",
    "arr = np.array([0, 1, 2, 3, 4, 5, 6, 7, 8, 9])\n",
    "print('1D Numpy array:')\n",
    "print(arr)\n",
    "# Convert 1D array to a 2D numpy array of 2 rows and 3 columns\n",
    "arr_2d = np.reshape(arr, (2, 5))\n",
    "print(\"2-d array\",arr_2d)"
   ]
  },
  {
   "cell_type": "code",
   "execution_count": 4,
   "metadata": {},
   "outputs": [
    {
     "name": "stdout",
     "output_type": "stream",
     "text": [
      "[[0 1 2 3 4]\n",
      " [5 6 7 8 9]]\n",
      "[[1 1 1 1 1]\n",
      " [1 1 1 1 1]]\n",
      "array: [[0 1 2 3 4]\n",
      " [5 6 7 8 9]\n",
      " [1 1 1 1 1]\n",
      " [1 1 1 1 1]]\n"
     ]
    }
   ],
   "source": [
    "#Question:2\n",
    "#How to stack two arrays vertically?\n",
    "x=np.array([[0, 1, 2, 3, 4], [5, 6, 7, 8, 9]])\n",
    "print(x)\n",
    "y=np.array([[1, 1, 1, 1, 1], [1, 1, 1, 1, 1]])\n",
    "print(y)\n",
    "array=np.vstack((x,y))\n",
    "print(\"array:\",array)"
   ]
  },
  {
   "cell_type": "code",
   "execution_count": 5,
   "metadata": {},
   "outputs": [
    {
     "name": "stdout",
     "output_type": "stream",
     "text": [
      "[[0 1 2 3 4]\n",
      " [5 6 7 8 9]]\n",
      "[[1 1 1 1 1]\n",
      " [1 1 1 1 1]]\n",
      "array: [[0 1 2 3 4 1 1 1 1 1]\n",
      " [5 6 7 8 9 1 1 1 1 1]]\n"
     ]
    }
   ],
   "source": [
    "#Question:3\n",
    "#How to stack two arrays horizontally?\n",
    "x=np.array([[0, 1, 2, 3, 4], [5, 6, 7, 8, 9]])\n",
    "print(x)\n",
    "y=np.array([[1, 1, 1, 1, 1], [1, 1, 1, 1, 1]])\n",
    "print(y)\n",
    "array=np.hstack((x,y))\n",
    "print(\"array:\",array)"
   ]
  },
  {
   "cell_type": "code",
   "execution_count": 6,
   "metadata": {},
   "outputs": [
    {
     "name": "stdout",
     "output_type": "stream",
     "text": [
      "arr= [[ 0  1  2]\n",
      " [ 3  4  5]\n",
      " [ 6  7  8]\n",
      " [ 9 10 11]\n",
      " [12 13 14]]\n",
      "newarr= [ 0  1  2  3  4  5  6  7  8  9 10 11 12 13 14]\n"
     ]
    }
   ],
   "source": [
    "#Question:4\n",
    "#How to convert an array of arrays into a flat 1d array?\n",
    "arr = np.array([[0,1, 2], [3,4, 5],[6,7,8],[9,10,11], [12,13,14]])\n",
    "print(\"arr=\",arr)\n",
    "newarr = arr.reshape(-1)\n",
    "print(\"newarr=\", newarr)"
   ]
  },
  {
   "cell_type": "code",
   "execution_count": 7,
   "metadata": {},
   "outputs": [
    {
     "name": "stdout",
     "output_type": "stream",
     "text": [
      "[[ 0  1  2  3  4]\n",
      " [ 5  6  7  8  9]\n",
      " [10 11 12 13 14]]\n",
      "newarr= [ 0  1  2  3  4  5  6  7  8  9 10 11 12 13 14]\n",
      "_________________________________________________\n"
     ]
    }
   ],
   "source": [
    "#Question:5\n",
    "#How to Convert higher dimension into one dimension?\n",
    "arr = np.arange(15).reshape(3,5)\n",
    "print(arr)\n",
    "newarr = arr.reshape(-1)\n",
    "print(\"newarr=\", newarr)\n",
    "print(\"_________________________________________________\")"
   ]
  },
  {
   "cell_type": "code",
   "execution_count": 12,
   "metadata": {},
   "outputs": [
    {
     "name": "stdout",
     "output_type": "stream",
     "text": [
      "[ 0  1  2  3  4  5  6  7  8  9 10 11 12 13 14]\n",
      "newarr= [[ 0  1  2]\n",
      " [ 3  4  5]\n",
      " [ 6  7  8]\n",
      " [ 9 10 11]\n",
      " [12 13 14]]\n",
      "_________________________________________________\n"
     ]
    }
   ],
   "source": [
    "#Question:6\n",
    "#Convert one dimension to higher dimension?\n",
    "arr = np.arange(15)\n",
    "print(arr)\n",
    "newarr = arr.reshape(5, 3)\n",
    "print(\"newarr=\", newarr)\n",
    "print(\"_________________________________________________\")"
   ]
  },
  {
   "cell_type": "code",
   "execution_count": 13,
   "metadata": {},
   "outputs": [
    {
     "name": "stdout",
     "output_type": "stream",
     "text": [
      "[[ 0  1  2  3  4]\n",
      " [ 5  6  7  8  9]\n",
      " [10 11 12 13 14]\n",
      " [15 16 17 18 19]\n",
      " [20 21 22 23 24]]\n",
      "square of an array: [[  0   1   4   9  16]\n",
      " [ 25  36  49  64  81]\n",
      " [100 121 144 169 196]\n",
      " [225 256 289 324 361]\n",
      " [400 441 484 529 576]]\n",
      "_________________________________________________\n"
     ]
    }
   ],
   "source": [
    "#Question:7\n",
    "#Create 5x5 an array and find the square of an array?\n",
    "x = np.arange(25).reshape(5,5)\n",
    "print(x)\n",
    "s=np.square(x)\n",
    "print(\"square of an array:\",s)\n",
    "print(\"_________________________________________________\")"
   ]
  },
  {
   "cell_type": "code",
   "execution_count": 14,
   "metadata": {},
   "outputs": [
    {
     "name": "stdout",
     "output_type": "stream",
     "text": [
      "[[ 0  1  2  3  4  5]\n",
      " [ 6  7  8  9 10 11]\n",
      " [12 13 14 15 16 17]\n",
      " [18 19 20 21 22 23]\n",
      " [24 25 26 27 28 29]]\n",
      "mean of an array: 14.5\n",
      "_________________________________________________\n"
     ]
    }
   ],
   "source": [
    "#Question:8\n",
    "#Create 5x6 an array and find the mean?\n",
    "x = np.arange(30).reshape(5,6)\n",
    "print(x)\n",
    "m=np.mean(x)\n",
    "print(\"mean of an array:\",m)\n",
    "print(\"_________________________________________________\")"
   ]
  },
  {
   "cell_type": "code",
   "execution_count": 15,
   "metadata": {},
   "outputs": [
    {
     "name": "stdout",
     "output_type": "stream",
     "text": [
      "[[ 0  1  2  3  4  5]\n",
      " [ 6  7  8  9 10 11]\n",
      " [12 13 14 15 16 17]\n",
      " [18 19 20 21 22 23]\n",
      " [24 25 26 27 28 29]]\n",
      "standard deviation of an array: 8.65544144839919\n",
      "_________________________________________________\n"
     ]
    }
   ],
   "source": [
    "#Question:9\n",
    "#Find the standard deviation of the previous array in Q8?\n",
    "x = np.arange(30).reshape(5,6)\n",
    "print(x)\n",
    "std=np.std(x, dtype=np.float64)\n",
    "print(\"standard deviation of an array:\",std)\n",
    "print(\"_________________________________________________\")"
   ]
  },
  {
   "cell_type": "code",
   "execution_count": 16,
   "metadata": {},
   "outputs": [
    {
     "name": "stdout",
     "output_type": "stream",
     "text": [
      "[[ 0  1  2  3  4  5]\n",
      " [ 6  7  8  9 10 11]\n",
      " [12 13 14 15 16 17]\n",
      " [18 19 20 21 22 23]\n",
      " [24 25 26 27 28 29]]\n",
      "median of an array: 14.5\n",
      "_________________________________________________\n"
     ]
    }
   ],
   "source": [
    "#Question:10\n",
    "#Find the median of the previous array in Q8?\n",
    "x = np.arange(30).reshape(5,6)\n",
    "print(x)\n",
    "median=np.median(x)\n",
    "print(\"median of an array:\",median)\n",
    "print(\"_________________________________________________\")"
   ]
  },
  {
   "cell_type": "code",
   "execution_count": 17,
   "metadata": {},
   "outputs": [
    {
     "name": "stdout",
     "output_type": "stream",
     "text": [
      "[[ 0  1  2  3  4  5]\n",
      " [ 6  7  8  9 10 11]\n",
      " [12 13 14 15 16 17]\n",
      " [18 19 20 21 22 23]\n",
      " [24 25 26 27 28 29]]\n",
      "transpose of an array: [[ 0  6 12 18 24]\n",
      " [ 1  7 13 19 25]\n",
      " [ 2  8 14 20 26]\n",
      " [ 3  9 15 21 27]\n",
      " [ 4 10 16 22 28]\n",
      " [ 5 11 17 23 29]]\n",
      "_________________________________________________\n"
     ]
    }
   ],
   "source": [
    "#Question:11¶\n",
    "#Find the transpose of the previous array in Q8?\n",
    "x = np.arange(30).reshape(5,6)\n",
    "print(x)\n",
    "t=x.transpose()\n",
    "print(\"transpose of an array:\",t)\n",
    "print(\"_________________________________________________\")"
   ]
  },
  {
   "cell_type": "code",
   "execution_count": 18,
   "metadata": {},
   "outputs": [
    {
     "name": "stdout",
     "output_type": "stream",
     "text": [
      "[[ 0  1  2  3]\n",
      " [ 4  5  6  7]\n",
      " [ 8  9 10 11]\n",
      " [12 13 14 15]]\n",
      "\n",
      "Trace of given matrix: 30\n",
      "_________________________________________________\n"
     ]
    }
   ],
   "source": [
    "#Question:12\n",
    "#Create a 4x4 an array and find the sum of diagonal elements?\n",
    "x = np.arange(16).reshape(4,4)\n",
    "print(x)\n",
    "# calculating the Trace of a matrix \n",
    "trace = np.trace(x) \n",
    "print(\"\\nTrace of given matrix:\",trace)\n",
    "print(\"_________________________________________________\")"
   ]
  },
  {
   "cell_type": "code",
   "execution_count": 19,
   "metadata": {},
   "outputs": [
    {
     "name": "stdout",
     "output_type": "stream",
     "text": [
      "[[ 0  1  2  3]\n",
      " [ 4  5  6  7]\n",
      " [ 8  9 10 11]\n",
      " [12 13 14 15]]\n",
      "determinant of the array: -2.9582283945787796e-30\n",
      "_________________________________________________\n"
     ]
    }
   ],
   "source": [
    "#Question:13\n",
    "#Find the determinant of the previous array in Q12?\n",
    "x = np.arange(16).reshape(4,4)\n",
    "print(x)\n",
    "print (\"determinant of the array:\",np.linalg.det(x))\n",
    "print(\"_________________________________________________\")"
   ]
  },
  {
   "cell_type": "code",
   "execution_count": 20,
   "metadata": {},
   "outputs": [
    {
     "name": "stdout",
     "output_type": "stream",
     "text": [
      "arr: [[14, 17, 12, 33, 44], [15, 6, 27, 8, 19], [23, 2, 54, 1, 4]]\n",
      "\n",
      "5th Percentile of arr, axis = None :  1.7000000000000002\n",
      "95th Percentile of arr, axis = None :  46.999999999999986\n",
      "\n",
      "5th Percentile of arr, axis = 0 :  [14.1  2.4 13.5  1.7  5.5]\n",
      "95th Percentile of arr, axis = 0 :  [22.2 15.9 51.3 30.5 41.5]\n",
      "_________________________________________________\n"
     ]
    }
   ],
   "source": [
    "#Question:14\n",
    "#Find the 5th and 95th percentile of an array?\n",
    "# 2D array \n",
    "arr = [[14, 17, 12, 33, 44],  \n",
    "       [15, 6, 27, 8, 19], \n",
    "       [23, 2, 54, 1, 4,]] \n",
    "print(\"arr:\", arr) \n",
    "#axis = 0 means along the column and axis = 1 means working along the row.    \n",
    "# Percentile of the flattened array \n",
    "print(\"\\n5th Percentile of arr, axis = None : \", \n",
    "      np.percentile(arr, 5)) \n",
    "print(\"95th Percentile of arr, axis = None : \", \n",
    "      np.percentile(arr, 95))   \n",
    "# Percentile along the axis = 0 \n",
    "print(\"\\n5th Percentile of arr, axis = 0 : \", \n",
    "      np.percentile(arr, 5, axis =0)) \n",
    "print(\"95th Percentile of arr, axis = 0 : \", \n",
    "      np.percentile(arr, 95, axis =0)) \n",
    "print(\"_________________________________________________\")"
   ]
  },
  {
   "cell_type": "code",
   "execution_count": 21,
   "metadata": {},
   "outputs": [
    {
     "name": "stdout",
     "output_type": "stream",
     "text": [
      "Original array:\n",
      "[[1 0 1 0 1 0 0 1 2 0]\n",
      " [0 2 2 1 0 2 1 2 0 0]\n",
      " [1 0 1 1 1 1 0 2 1 1]\n",
      " [2 1 0 0 1 0 1 1 1 0]]\n",
      "\n",
      "Is NaN: \n",
      " [[False False False False False False False False False False]\n",
      " [False False False False False False False False False False]\n",
      " [False False False False False False False False False False]\n",
      " [False False False False False False False False False False]]\n",
      "\n",
      "Test whether the said array has null values or not:\n",
      "False\n",
      "_________________________________________________\n"
     ]
    }
   ],
   "source": [
    "#Question:15\n",
    "#How to find if a given array has any null values?\n",
    "print(\"Original array:\")\n",
    "nums = np.random.randint(0,3,(4,10))\n",
    "print(nums)\n",
    "print(\"\\nIs NaN: \\n\", np.isnan(nums)) \n",
    "print(\"\\nTest whether the said array has null values or not:\")\n",
    "n=np.all(np.isnan(nums))\n",
    "print(n)\n",
    "print(\"_________________________________________________\")\n"
   ]
  },
  {
   "cell_type": "markdown",
   "metadata": {},
   "source": [
    "# END"
   ]
  }
 ],
 "metadata": {
  "kernelspec": {
   "display_name": "Python 3",
   "language": "python",
   "name": "python3"
  },
  "language_info": {
   "codemirror_mode": {
    "name": "ipython",
    "version": 3
   },
   "file_extension": ".py",
   "mimetype": "text/x-python",
   "name": "python",
   "nbconvert_exporter": "python",
   "pygments_lexer": "ipython3",
   "version": "3.7.4"
  }
 },
 "nbformat": 4,
 "nbformat_minor": 2
}
