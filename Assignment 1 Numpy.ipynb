{
 "cells": [
  {
   "cell_type": "markdown",
   "metadata": {},
   "source": [
    "# Assignment For Numpy¶\n",
    "#Difficulty Level Beginner"
   ]
  },
  {
   "cell_type": "code",
   "execution_count": 1,
   "metadata": {},
   "outputs": [],
   "source": [
    "#1. Import the numpy package under the name np\n",
    "import numpy as np"
   ]
  },
  {
   "cell_type": "code",
   "execution_count": 2,
   "metadata": {},
   "outputs": [
    {
     "name": "stdout",
     "output_type": "stream",
     "text": [
      "null vector of size 10 is a = [0. 0. 0. 0. 0. 0. 0. 0. 0. 0.]\n",
      "_________________________________________________\n"
     ]
    }
   ],
   "source": [
    "#2. Create a null vector of size 10\n",
    "a= np.zeros(10)\n",
    "print (\"null vector of size 10 is a =\", a)\n",
    "print(\"_________________________________________________\")"
   ]
  },
  {
   "cell_type": "code",
   "execution_count": 3,
   "metadata": {},
   "outputs": [
    {
     "name": "stdout",
     "output_type": "stream",
     "text": [
      "vector with values ranging from 10 to 49 are: [10 11 12 13 14 15 16 17 18 19 20 21 22 23 24 25 26 27 28 29 30 31 32 33\n",
      " 34 35 36 37 38 39 40 41 42 43 44 45 46 47 48 49]\n",
      "_________________________________________________\n"
     ]
    }
   ],
   "source": [
    "#3. Create a vector with values ranging from 10 to 49\n",
    "values_ranging = np.arange(10,50)\n",
    "print (\"vector with values ranging from 10 to 49 are:\", values_ranging)\n",
    "print(\"_________________________________________________\")"
   ]
  },
  {
   "cell_type": "code",
   "execution_count": 4,
   "metadata": {},
   "outputs": [
    {
     "name": "stdout",
     "output_type": "stream",
     "text": [
      "shape of previous array in question 3 is: (40,)\n",
      "_________________________________________________\n"
     ]
    }
   ],
   "source": [
    "#Find the shape of previous array in question 3\n",
    "print(\"shape of previous array in question 3 is:\",values_ranging.shape)\n",
    "print(\"_________________________________________________\")"
   ]
  },
  {
   "cell_type": "code",
   "execution_count": 5,
   "metadata": {},
   "outputs": [
    {
     "name": "stdout",
     "output_type": "stream",
     "text": [
      "type of the previous array in question 3 is: int32\n",
      "_________________________________________________\n"
     ]
    }
   ],
   "source": [
    "#Print the type of the previous array in question 3\n",
    "print(\"type of the previous array in question 3 is:\", values_ranging.dtype)\n",
    "print(\"_________________________________________________\")"
   ]
  },
  {
   "cell_type": "code",
   "execution_count": 6,
   "metadata": {},
   "outputs": [
    {
     "name": "stdout",
     "output_type": "stream",
     "text": [
      "Numpy Version\n",
      "1.16.5\n",
      "_________________________________________________\n",
      "Configuration\n",
      "mkl_info:\n",
      "    libraries = ['mkl_rt']\n",
      "    library_dirs = ['C:/ProgramData/Anaconda3\\\\Library\\\\lib']\n",
      "    define_macros = [('SCIPY_MKL_H', None), ('HAVE_CBLAS', None)]\n",
      "    include_dirs = ['C:\\\\Program Files (x86)\\\\IntelSWTools\\\\compilers_and_libraries_2019.0.117\\\\windows\\\\mkl', 'C:\\\\Program Files (x86)\\\\IntelSWTools\\\\compilers_and_libraries_2019.0.117\\\\windows\\\\mkl\\\\include', 'C:\\\\Program Files (x86)\\\\IntelSWTools\\\\compilers_and_libraries_2019.0.117\\\\windows\\\\mkl\\\\lib', 'C:/ProgramData/Anaconda3\\\\Library\\\\include']\n",
      "blas_mkl_info:\n",
      "    libraries = ['mkl_rt']\n",
      "    library_dirs = ['C:/ProgramData/Anaconda3\\\\Library\\\\lib']\n",
      "    define_macros = [('SCIPY_MKL_H', None), ('HAVE_CBLAS', None)]\n",
      "    include_dirs = ['C:\\\\Program Files (x86)\\\\IntelSWTools\\\\compilers_and_libraries_2019.0.117\\\\windows\\\\mkl', 'C:\\\\Program Files (x86)\\\\IntelSWTools\\\\compilers_and_libraries_2019.0.117\\\\windows\\\\mkl\\\\include', 'C:\\\\Program Files (x86)\\\\IntelSWTools\\\\compilers_and_libraries_2019.0.117\\\\windows\\\\mkl\\\\lib', 'C:/ProgramData/Anaconda3\\\\Library\\\\include']\n",
      "blas_opt_info:\n",
      "    libraries = ['mkl_rt']\n",
      "    library_dirs = ['C:/ProgramData/Anaconda3\\\\Library\\\\lib']\n",
      "    define_macros = [('SCIPY_MKL_H', None), ('HAVE_CBLAS', None)]\n",
      "    include_dirs = ['C:\\\\Program Files (x86)\\\\IntelSWTools\\\\compilers_and_libraries_2019.0.117\\\\windows\\\\mkl', 'C:\\\\Program Files (x86)\\\\IntelSWTools\\\\compilers_and_libraries_2019.0.117\\\\windows\\\\mkl\\\\include', 'C:\\\\Program Files (x86)\\\\IntelSWTools\\\\compilers_and_libraries_2019.0.117\\\\windows\\\\mkl\\\\lib', 'C:/ProgramData/Anaconda3\\\\Library\\\\include']\n",
      "lapack_mkl_info:\n",
      "    libraries = ['mkl_rt']\n",
      "    library_dirs = ['C:/ProgramData/Anaconda3\\\\Library\\\\lib']\n",
      "    define_macros = [('SCIPY_MKL_H', None), ('HAVE_CBLAS', None)]\n",
      "    include_dirs = ['C:\\\\Program Files (x86)\\\\IntelSWTools\\\\compilers_and_libraries_2019.0.117\\\\windows\\\\mkl', 'C:\\\\Program Files (x86)\\\\IntelSWTools\\\\compilers_and_libraries_2019.0.117\\\\windows\\\\mkl\\\\include', 'C:\\\\Program Files (x86)\\\\IntelSWTools\\\\compilers_and_libraries_2019.0.117\\\\windows\\\\mkl\\\\lib', 'C:/ProgramData/Anaconda3\\\\Library\\\\include']\n",
      "lapack_opt_info:\n",
      "    libraries = ['mkl_rt']\n",
      "    library_dirs = ['C:/ProgramData/Anaconda3\\\\Library\\\\lib']\n",
      "    define_macros = [('SCIPY_MKL_H', None), ('HAVE_CBLAS', None)]\n",
      "    include_dirs = ['C:\\\\Program Files (x86)\\\\IntelSWTools\\\\compilers_and_libraries_2019.0.117\\\\windows\\\\mkl', 'C:\\\\Program Files (x86)\\\\IntelSWTools\\\\compilers_and_libraries_2019.0.117\\\\windows\\\\mkl\\\\include', 'C:\\\\Program Files (x86)\\\\IntelSWTools\\\\compilers_and_libraries_2019.0.117\\\\windows\\\\mkl\\\\lib', 'C:/ProgramData/Anaconda3\\\\Library\\\\include']\n",
      "None\n",
      "_________________________________________________\n"
     ]
    }
   ],
   "source": [
    "#Print the numpy version and the configuration\n",
    "print(\"Numpy Version\")\n",
    "print(np.__version__)\n",
    "print(\"_________________________________________________\")\n",
    "print(\"Configuration\")\n",
    "print(np.show_config())\n",
    "print(\"_________________________________________________\")"
   ]
  },
  {
   "cell_type": "code",
   "execution_count": 7,
   "metadata": {},
   "outputs": [
    {
     "name": "stdout",
     "output_type": "stream",
     "text": [
      "the dimension of the array in question 3 is: 1\n",
      "_________________________________________________\n"
     ]
    }
   ],
   "source": [
    "#Print the dimension of the array in question 3\n",
    "print(\"the dimension of the array in question 3 is:\",values_ranging.ndim)\n",
    "print(\"_________________________________________________\")"
   ]
  },
  {
   "cell_type": "code",
   "execution_count": 8,
   "metadata": {},
   "outputs": [
    {
     "name": "stdout",
     "output_type": "stream",
     "text": [
      "Numpy Array: \n",
      "[ True  True  True  True  True  True  True  True  True  True]\n",
      "_________________________________________________\n"
     ]
    }
   ],
   "source": [
    "#Create a boolean array with all the True values\n",
    "# Array for random sampling\n",
    "sample_arr = [True]\n",
    "# Create a numpy array with random True or False of size 10\n",
    "bool_arr = np.random.choice(sample_arr, size=10)\n",
    "print('Numpy Array: ')\n",
    "print(bool_arr)\n",
    "print(\"_________________________________________________\")"
   ]
  },
  {
   "cell_type": "code",
   "execution_count": 9,
   "metadata": {},
   "outputs": [
    {
     "name": "stdout",
     "output_type": "stream",
     "text": [
      "2-d array: [[0. 0. 0. 0. 0.]\n",
      " [0. 0. 0. 0. 0.]\n",
      " [0. 0. 0. 0. 0.]\n",
      " [0. 0. 0. 0. 0.]]\n",
      "_________________________________________________\n"
     ]
    }
   ],
   "source": [
    "#Create a two dimensional array\n",
    "Two_array = np.zeros((4,5))\n",
    "# 4 rows, 5 columns\n",
    "print(\"2-d array:\", Two_array)\n",
    "print(\"_________________________________________________\")"
   ]
  },
  {
   "cell_type": "code",
   "execution_count": 10,
   "metadata": {},
   "outputs": [
    {
     "name": "stdout",
     "output_type": "stream",
     "text": [
      "3-d array: [[[0. 0. 0. 0.]\n",
      "  [0. 0. 0. 0.]\n",
      "  [0. 0. 0. 0.]]\n",
      "\n",
      " [[0. 0. 0. 0.]\n",
      "  [0. 0. 0. 0.]\n",
      "  [0. 0. 0. 0.]]\n",
      "\n",
      " [[0. 0. 0. 0.]\n",
      "  [0. 0. 0. 0.]\n",
      "  [0. 0. 0. 0.]]]\n",
      "_________________________________________________\n",
      "**************************************************\n"
     ]
    }
   ],
   "source": [
    "#Create a three dimensional array\n",
    "Three_array = np.zeros((3,3,4))\n",
    "#3 Sets, 3 Rows per Set, 4 Columns\n",
    "print(\"3-d array:\", Three_array)\n",
    "print(\"_________________________________________________\")\n",
    "print(\"**************************************************\")"
   ]
  },
  {
   "cell_type": "markdown",
   "metadata": {},
   "source": [
    "# Difficulty Level Easy"
   ]
  },
  {
   "cell_type": "code",
   "execution_count": 11,
   "metadata": {},
   "outputs": [
    {
     "name": "stdout",
     "output_type": "stream",
     "text": [
      "Original array: [ 1  2  3  4  5  6  7  8  9 10 11 12 13 14 15 16 17 18 19]\n",
      "Reverse array: [19 18 17 16 15 14 13 12 11 10  9  8  7  6  5  4  3  2  1]\n",
      "_________________________________________________\n"
     ]
    }
   ],
   "source": [
    "# 1.Reverse a vector (first element becomes last)\n",
    "x = np.arange(1, 20)\n",
    "print(\"Original array:\", x)\n",
    "x = x[::-1]\n",
    "print(\"Reverse array:\", x)\n",
    "print(\"_________________________________________________\")"
   ]
  },
  {
   "cell_type": "code",
   "execution_count": 12,
   "metadata": {},
   "outputs": [
    {
     "name": "stdout",
     "output_type": "stream",
     "text": [
      "original null vector: [0. 0. 0. 0. 0. 0. 0. 0. 0. 0.]\n",
      "5th value changed in a null vector: [0. 0. 0. 0. 0. 1. 0. 0. 0. 0.]\n",
      "_________________________________________________\n"
     ]
    }
   ],
   "source": [
    "# 2.Create a null vector of size 10 but the fifth value which is 1\n",
    "a=np.zeros(10)\n",
    "print(\"original null vector:\",a)\n",
    "a[5]=1\n",
    "print(\"5th value changed in a null vector:\",a)\n",
    "print(\"_________________________________________________\")"
   ]
  },
  {
   "cell_type": "code",
   "execution_count": 13,
   "metadata": {},
   "outputs": [
    {
     "name": "stdout",
     "output_type": "stream",
     "text": [
      "3x3 matrix: [[1. 0. 0.]\n",
      " [0. 1. 0.]\n",
      " [0. 0. 1.]]\n",
      "_________________________________________________\n"
     ]
    }
   ],
   "source": [
    "# 3.Create a 3x3 identity matrix\n",
    "array_2D=np.identity(3)\n",
    "print('3x3 matrix:', array_2D)\n",
    "print(\"_________________________________________________\")"
   ]
  },
  {
   "cell_type": "code",
   "execution_count": 14,
   "metadata": {},
   "outputs": [
    {
     "name": "stdout",
     "output_type": "stream",
     "text": [
      "original array: [1 2 3 4 5]\n",
      "original array data type: int32\n",
      "converted array: [1. 2. 3. 4. 5.]\n",
      "converted array data type: float64\n",
      "_________________________________________________\n"
     ]
    }
   ],
   "source": [
    "# arr = np.array([1, 2, 3, 4, 5])\n",
    "#Convert the data type of the given array from int to float\n",
    "arr = np.array([1, 2, 3, 4, 5])\n",
    "print(\"original array:\",arr)\n",
    "print(\"original array data type:\",arr.dtype) \n",
    "# change the dtype to 'float64' \n",
    "arr = arr.astype('float64') \n",
    "# Print the array after changing \n",
    "# the data type \n",
    "print(\"converted array:\",arr)\n",
    "# Also print the data type \n",
    "print(\"converted array data type:\", arr.dtype) \n",
    "print(\"_________________________________________________\")"
   ]
  },
  {
   "cell_type": "code",
   "execution_count": 15,
   "metadata": {},
   "outputs": [
    {
     "name": "stdout",
     "output_type": "stream",
     "text": [
      "arr1 = [[1. 2. 3.]\n",
      " [4. 5. 6.]]\n",
      "arr2 = [[ 0.  4.  1.]\n",
      " [ 7.  2. 12.]]\n",
      "Resultant output array:  [[ 0.  8.  3.]\n",
      " [28. 10. 72.]]\n",
      "_________________________________________________\n"
     ]
    }
   ],
   "source": [
    "#arr1 = np.array([[1., 2., 3.],[4., 5., 6.]])  \n",
    "#arr2 = np.array([[0., 4., 1.], [7., 2., 12.]])\n",
    "#Multiply arr1 with arr2\n",
    "arr1 = np.array([[1., 2., 3.],[4., 5., 6.]])\n",
    "print(\"arr1 =\",arr1)  \n",
    "arr2 = np.array([[0., 4., 1.], [7., 2., 12.]])\n",
    "print(\"arr2 =\",arr2) \n",
    "out_arr = np.multiply(arr1, arr2)  \n",
    "print (\"Resultant output array: \", out_arr)  \n",
    "print(\"_________________________________________________\")"
   ]
  },
  {
   "cell_type": "code",
   "execution_count": 16,
   "metadata": {},
   "outputs": [
    {
     "name": "stdout",
     "output_type": "stream",
     "text": [
      "arr1 = [[1. 2. 3.]\n",
      " [4. 5. 6.]]\n",
      "arr2 = [[ 0.  4.  1.]\n",
      " [ 7.  2. 12.]]\n",
      "comparison result is: False\n",
      "_________________________________________________\n"
     ]
    }
   ],
   "source": [
    "#arr1 = np.array([[1., 2., 3.],[4., 5., 6.]]) \n",
    "#arr2 = np.array([[0., 4., 1.],[7., 2., 12.]])\n",
    "#Make an array by comparing both the arrays provided above\n",
    "arr1 = np.array([[1., 2., 3.],[4., 5., 6.]])\n",
    "print(\"arr1 =\",arr1)  \n",
    "arr2 = np.array([[0., 4., 1.], [7., 2., 12.]])\n",
    "print(\"arr2 =\",arr2) \n",
    "comparison = arr1 == arr2 \n",
    "equal_arrays = comparison.all() \n",
    "print(\"comparison result is:\", equal_arrays) \n",
    "print(\"_________________________________________________\")"
   ]
  },
  {
   "cell_type": "code",
   "execution_count": 17,
   "metadata": {},
   "outputs": [
    {
     "name": "stdout",
     "output_type": "stream",
     "text": [
      "odd number from array are: [1 3 5 7 9]\n",
      "_________________________________________________\n"
     ]
    }
   ],
   "source": [
    "#Extract all odd numbers from arr with values(0-9)\n",
    "a = np.array([1,2,3,4,5,6,6,7,8,9])\n",
    "odd=a[a % 2 == 1]\n",
    "print(\"odd number from array are:\",odd)\n",
    "print(\"_________________________________________________\")"
   ]
  },
  {
   "cell_type": "code",
   "execution_count": 18,
   "metadata": {},
   "outputs": [
    {
     "name": "stdout",
     "output_type": "stream",
     "text": [
      "odd number replaced with -1 array are: [-1  2 -1  4 -1  6  6 -1  8 -1]\n",
      "_________________________________________________\n"
     ]
    }
   ],
   "source": [
    "#Replace all odd numbers to -1 from previous array\n",
    "a = np.array([1,2,3,4,5,6,6,7,8,9])\n",
    "odd = (a%2 == 1)\n",
    "a[odd] = -1\n",
    "print(\"odd number replaced with -1 array are:\",a)\n",
    "print(\"_________________________________________________\")\n"
   ]
  },
  {
   "cell_type": "code",
   "execution_count": 19,
   "metadata": {},
   "outputs": [
    {
     "name": "stdout",
     "output_type": "stream",
     "text": [
      "original array [0 1 2 3 4 5 6 7 8 9]\n",
      "Changed array [ 0  1  2  3  4 12 12 12  8  9]\n",
      "_________________________________________________\n"
     ]
    }
   ],
   "source": [
    "#arr = np.arange(10)\n",
    "#Replace the values of indexes 5,6,7 and 8 to 12\n",
    "arr = np.arange(10)\n",
    "print(\"original array\",arr)\n",
    "arr[5:8]=12\n",
    "print(\"Changed array\",arr)\n",
    "print(\"_________________________________________________\")"
   ]
  },
  {
   "cell_type": "code",
   "execution_count": 20,
   "metadata": {},
   "outputs": [
    {
     "name": "stdout",
     "output_type": "stream",
     "text": [
      "Original array:\n",
      "[[1. 1. 1. 1. 1.]\n",
      " [1. 1. 1. 1. 1.]\n",
      " [1. 1. 1. 1. 1.]\n",
      " [1. 1. 1. 1. 1.]\n",
      " [1. 1. 1. 1. 1.]]\n",
      "1 on the border and 0 inside in the array:\n",
      "[[1. 1. 1. 1. 1.]\n",
      " [1. 0. 0. 0. 1.]\n",
      " [1. 0. 0. 0. 1.]\n",
      " [1. 0. 0. 0. 1.]\n",
      " [1. 1. 1. 1. 1.]]\n",
      "_________________________________________________\n"
     ]
    }
   ],
   "source": [
    "#Create a 2d array with 1 on the border and 0 inside\n",
    "x = np.ones((5,5))\n",
    "print(\"Original array:\")\n",
    "print(x)\n",
    "print(\"1 on the border and 0 inside in the array:\")\n",
    "x[1:-1,1:-1] = 0\n",
    "print(x)\n",
    "print(\"_________________________________________________\")"
   ]
  },
  {
   "cell_type": "markdown",
   "metadata": {},
   "source": [
    "# Difficulty Level Medium"
   ]
  },
  {
   "cell_type": "code",
   "execution_count": 21,
   "metadata": {},
   "outputs": [
    {
     "name": "stdout",
     "output_type": "stream",
     "text": [
      "original array: [[1 2 3]\n",
      " [4 5 6]\n",
      " [7 8 9]]\n",
      "modified array: [[ 1  2  3]\n",
      " [ 4 12  6]\n",
      " [ 7  8  9]]\n",
      "_________________________________________________\n"
     ]
    }
   ],
   "source": [
    "#arr2d = np.array([[1, 2, 3], [4, 5, 6], [7, 8, 9]])\n",
    "#Replace the value 5 to 12\n",
    "arr2d = np.array([[1, 2, 3], [4, 5, 6], [7, 8, 9]])\n",
    "print(\"original array:\", arr2d)\n",
    "arr2d[1][1]=12\n",
    "print(\"modified array:\",arr2d)\n",
    "print(\"_________________________________________________\")"
   ]
  },
  {
   "cell_type": "code",
   "execution_count": 22,
   "metadata": {},
   "outputs": [
    {
     "name": "stdout",
     "output_type": "stream",
     "text": [
      "original array: [[[ 1  2  3]\n",
      "  [ 4  5  6]]\n",
      "\n",
      " [[ 7  8  9]\n",
      "  [10 11 12]]]\n",
      "modified array: [[[64 64 64]\n",
      "  [64 64 64]]\n",
      "\n",
      " [[ 7  8  9]\n",
      "  [10 11 12]]]\n",
      "_________________________________________________\n"
     ]
    }
   ],
   "source": [
    "#arr3d = np.array([[[1, 2, 3], [4, 5, 6]], [[7, 8, 9], [10, 11, 12]]])\n",
    "#Convert all the values of 1st array to 64\n",
    "arr3d = np.array([[[1, 2, 3], [4, 5, 6]], [[7, 8, 9], [10, 11, 12]]])\n",
    "print(\"original array:\", arr3d)\n",
    "arr3d[0] = 64\n",
    "print(\"modified array:\",arr3d)\n",
    "print(\"_________________________________________________\")"
   ]
  },
  {
   "cell_type": "code",
   "execution_count": 27,
   "metadata": {},
   "outputs": [
    {
     "name": "stdout",
     "output_type": "stream",
     "text": [
      "original array: [[0 1 2]\n",
      " [3 4 5]\n",
      " [6 7 8]]\n",
      "sliced 1st 1-D array: [0 1 2]\n",
      "_________________________________________________\n"
     ]
    }
   ],
   "source": [
    "#Make a 2-Dimensional array with values 0-9 and slice out the first 1st 1-D array from it\n",
    "arr = np.arange(9),\n",
    "arr= np.reshape(arr,(3,3))\n",
    "print(\"original array:\", arr)\n",
    "print(\"sliced 1st 1-D array:\", arr[0, 0:])\n",
    "print(\"_________________________________________________\")"
   ]
  },
  {
   "cell_type": "code",
   "execution_count": 26,
   "metadata": {},
   "outputs": [
    {
     "name": "stdout",
     "output_type": "stream",
     "text": [
      "original array: [[0 1 2]\n",
      " [3 4 5]\n",
      " [6 7 8]]\n",
      "sliced 2nd value from 2nd 1-D array: [4]\n",
      "_________________________________________________\n"
     ]
    }
   ],
   "source": [
    "#Make a 2-Dimensional array with values 0-9 and slice out the 2nd value from 2nd 1-D array from it\n",
    "arr = np.arange(9),\n",
    "arr= np.reshape(arr,(3,3))\n",
    "print(\"original array:\", arr)\n",
    "print(\"sliced 2nd value from 2nd 1-D array:\", arr[1, 1:2])\n",
    "print(\"_________________________________________________\")"
   ]
  },
  {
   "cell_type": "code",
   "execution_count": 28,
   "metadata": {},
   "outputs": [
    {
     "name": "stdout",
     "output_type": "stream",
     "text": [
      "original array: [[0 1 2]\n",
      " [3 4 5]\n",
      " [6 7 8]]\n",
      "sliced the third column but only the first two rows of array: [2 5]\n",
      "_________________________________________________\n"
     ]
    }
   ],
   "source": [
    "#Make a 2-Dimensional array with values 0-9 and slice out the third column but only the first two rows\n",
    "arr = np.arange(9),\n",
    "arr= np.reshape(arr,(3,3))\n",
    "print(\"original array:\", arr)\n",
    "print(\"sliced the third column but only the first two rows of array:\", arr[0:2,2])\n",
    "print(\"_________________________________________________\")"
   ]
  },
  {
   "cell_type": "code",
   "execution_count": 29,
   "metadata": {},
   "outputs": [
    {
     "name": "stdout",
     "output_type": "stream",
     "text": [
      "Original Array:\n",
      "[[0.80303652 0.61874006 0.23233397 0.78606801 0.41294445 0.14668654\n",
      "  0.14658285 0.01204494 0.42845876 0.38055879]\n",
      " [0.32793669 0.05114814 0.09973965 0.20668394 0.78037917 0.92363441\n",
      "  0.85731669 0.78455885 0.25209278 0.25481   ]\n",
      " [0.96039083 0.00661416 0.51759936 0.24882819 0.18996996 0.86891619\n",
      "  0.74076336 0.93323581 0.61888511 0.40522951]\n",
      " [0.98023485 0.87102087 0.25222661 0.43084484 0.14690802 0.54245811\n",
      "  0.76665745 0.0649879  0.20046235 0.83746013]\n",
      " [0.48522565 0.93473481 0.55813724 0.25684105 0.40301238 0.6199471\n",
      "  0.40977306 0.69710057 0.34275251 0.07100583]\n",
      " [0.28523787 0.31565629 0.6605142  0.65779027 0.77268714 0.62480961\n",
      "  0.60134739 0.10498358 0.46218495 0.98733059]\n",
      " [0.29301704 0.81693475 0.71997039 0.08406167 0.27913574 0.67273819\n",
      "  0.45317294 0.51602506 0.61662854 0.26909354]\n",
      " [0.34381873 0.86835279 0.6421335  0.04935159 0.50239289 0.98813725\n",
      "  0.58578345 0.26582069 0.41439719 0.71006979]\n",
      " [0.17882608 0.89260298 0.10052465 0.50583349 0.39177728 0.69744617\n",
      "  0.69728255 0.24404352 0.65536101 0.70337596]\n",
      " [0.42014179 0.58795606 0.02464629 0.0510683  0.77267132 0.69800014\n",
      "  0.31132463 0.01438444 0.99405756 0.02137688]]\n",
      "Minimum and Maximum Values:\n",
      "0.0066141572666588155 0.9940575614208769\n",
      "_________________________________________________\n"
     ]
    }
   ],
   "source": [
    "#Create a 10x10 array with random values and find the minimum and maximum values\n",
    "x = np.random.random((10,10))\n",
    "print(\"Original Array:\")\n",
    "print(x) \n",
    "xmin, xmax = x.min(), x.max()\n",
    "print(\"Minimum and Maximum Values:\")\n",
    "print(xmin, xmax)\n",
    "print(\"_________________________________________________\")"
   ]
  },
  {
   "cell_type": "code",
   "execution_count": 30,
   "metadata": {},
   "outputs": [
    {
     "name": "stdout",
     "output_type": "stream",
     "text": [
      "a: [1 2 3 2 3 4 3 4 5 6]\n",
      "b: [ 7  2 10  2  7  4  9  4  9  8]\n",
      "Common values between a and b: [2 4]\n",
      "_________________________________________________\n"
     ]
    }
   ],
   "source": [
    "#Find the common items between a and b\n",
    "a = np.array([1,2,3,2,3,4,3,4,5,6])\n",
    "print(\"a:\",a) \n",
    "b = np.array([7,2,10,2,7,4,9,4,9,8])\n",
    "print(\"b:\",b)\n",
    "# Common values between two arrays \n",
    "print(\"Common values between a and b:\",np.intersect1d(a, b)) \n",
    "print(\"_________________________________________________\")"
   ]
  },
  {
   "cell_type": "code",
   "execution_count": 31,
   "metadata": {},
   "outputs": [
    {
     "name": "stdout",
     "output_type": "stream",
     "text": [
      "a: [1 2 3 2 3 4 3 4 5 6]\n",
      "b: [ 7  2 10  2  7  4  9  4  9  8]\n",
      "the positions where elements of a and b match in array a: [1 5]\n",
      "_________________________________________________\n"
     ]
    }
   ],
   "source": [
    "#Find the positions where elements of a and b match\n",
    "a = np.array([1,2,3,2,3,4,3,4,5,6])\n",
    "print(\"a:\",a) \n",
    "b = np.array([7,2,10,2,7,4,9,4,9,8])\n",
    "print(\"b:\",b)\n",
    "print(\"the positions where elements of a and b match in array a:\",np.searchsorted(a, np.intersect1d(a, b)))\n",
    "print(\"_________________________________________________\")"
   ]
  },
  {
   "cell_type": "code",
   "execution_count": 32,
   "metadata": {},
   "outputs": [
    {
     "name": "stdout",
     "output_type": "stream",
     "text": [
      "names: ['Bob' 'Joe' 'Will' 'Bob' 'Will' 'Joe' 'Joe']\n",
      "data: [[ 0.87231019 -1.15971271 -0.52384585 -0.65224362]\n",
      " [ 1.107436   -1.21890519 -0.33274988 -1.18193006]\n",
      " [ 2.15912599  1.2447166   0.38102217  1.21193069]\n",
      " [ 1.46582817  0.6470612   0.1073656  -0.81858823]\n",
      " [ 0.58094412 -1.12858479 -0.11955043  0.00568945]\n",
      " [ 1.74721731  0.71598092  1.11458398  0.28396193]\n",
      " [ 0.38079215 -1.27349545  0.08230434 -0.58502849]]\n",
      "(array([0, 1, 3, 5, 6], dtype=int64),)\n",
      "[ True  True False  True False  True  True]\n",
      "_________________________________________________\n"
     ]
    }
   ],
   "source": [
    "#Find all the values from array data where the values from array names are not equal to Will\n",
    "names = np.array(['Bob', 'Joe', 'Will', 'Bob', 'Will', 'Joe', 'Joe'])\n",
    "print(\"names:\", names) \n",
    "data = np.random.randn(7, 4)\n",
    "print(\"data:\", data)\n",
    "x = np.where(names != 'Will')\n",
    "print(x)\n",
    "n=names != 'Will'\n",
    "print(n)\n",
    "print(\"_________________________________________________\")"
   ]
  },
  {
   "cell_type": "code",
   "execution_count": 33,
   "metadata": {},
   "outputs": [
    {
     "name": "stdout",
     "output_type": "stream",
     "text": [
      "names: ['Bob' 'Joe' 'Will' 'Bob' 'Will' 'Joe' 'Joe']\n",
      "data: [[-2.25166073  0.73508792  0.35924518 -1.28388453]\n",
      " [ 0.11797662 -1.996798   -0.03619846 -0.48226592]\n",
      " [-1.03556693 -1.23319681 -0.78576936  0.90249997]\n",
      " [ 0.0112956   0.16606049 -0.25184631 -1.38561558]\n",
      " [ 0.78287728  0.3631321   0.07254136 -0.57860244]\n",
      " [ 0.43288348  0.34113867  0.3715422   0.25034713]\n",
      " [-0.47359856  0.11123742  0.12395083 -0.99207797]]\n",
      "[ True False False  True False False False]\n",
      "_________________________________________________\n"
     ]
    }
   ],
   "source": [
    "#Find all the values from array data where the values from array names are not equal to Will and Joe\n",
    "names = np.array(['Bob', 'Joe', 'Will', 'Bob', 'Will', 'Joe', 'Joe'])\n",
    "print(\"names:\", names) \n",
    "data = np.random.randn(7, 4)\n",
    "print(\"data:\", data)\n",
    "mask = (names == 'Bob')\n",
    "# mask = (names != 'Will') | (names != 'Joe')\n",
    "print(mask)\n",
    "print(\"_________________________________________________\")"
   ]
  },
  {
   "cell_type": "markdown",
   "metadata": {},
   "source": [
    "# Difficulty Level Hard"
   ]
  },
  {
   "cell_type": "code",
   "execution_count": 34,
   "metadata": {},
   "outputs": [
    {
     "name": "stdout",
     "output_type": "stream",
     "text": [
      "[[ 1  2  3]\n",
      " [ 4  5  6]\n",
      " [ 7  8  9]\n",
      " [10 11 12]\n",
      " [13 14 15]]\n",
      "_________________________________________________\n"
     ]
    }
   ],
   "source": [
    "#Create a 2D array of shape 5x3 to contain decimal numbers between 1 and 15\n",
    "arr = np.arange(1,16).reshape(5,3)\n",
    "print(arr)\n",
    "print(\"_________________________________________________\")"
   ]
  },
  {
   "cell_type": "code",
   "execution_count": 35,
   "metadata": {},
   "outputs": [
    {
     "name": "stdout",
     "output_type": "stream",
     "text": [
      "[[[ 0  1  2  3]\n",
      "  [ 4  5  6  7]]\n",
      "\n",
      " [[ 8  9 10 11]\n",
      "  [12 13 14 15]]]\n",
      "_________________________________________________\n"
     ]
    }
   ],
   "source": [
    "#Create an array of shape (2, 2, 4) with decimal numbers between 1 to 16.\n",
    "arr = np.arange(16).reshape(2,2,4)\n",
    "print(arr)\n",
    "print(\"_________________________________________________\")"
   ]
  },
  {
   "cell_type": "code",
   "execution_count": 37,
   "metadata": {},
   "outputs": [
    {
     "name": "stdout",
     "output_type": "stream",
     "text": [
      "array: [[[ 0  1  2  3]\n",
      "  [ 4  5  6  7]]\n",
      "\n",
      " [[ 8  9 10 11]\n",
      "  [12 13 14 15]]]\n",
      "axes swaped of array: [[[ 0  4]\n",
      "  [ 1  5]\n",
      "  [ 2  6]\n",
      "  [ 3  7]]\n",
      "\n",
      " [[ 8 12]\n",
      "  [ 9 13]\n",
      "  [10 14]\n",
      "  [11 15]]]\n",
      "_________________________________________________\n"
     ]
    }
   ],
   "source": [
    "#Swap axes of the array you created in Question 32\n",
    "arr = np.arange(16).reshape(2,2,4)\n",
    "print(\"array:\",arr)\n",
    "print(\"axes swaped of array:\",arr.swapaxes(1, 2))\n",
    "print(\"_________________________________________________\")"
   ]
  },
  {
   "cell_type": "code",
   "execution_count": 38,
   "metadata": {},
   "outputs": [
    {
     "name": "stdout",
     "output_type": "stream",
     "text": [
      "arr: [0 1 2 3 4 5 6 7 8 9]\n",
      "square root of every element in the array: [0.         1.         1.41421356 1.73205081 2.         2.23606798\n",
      " 2.44948974 2.64575131 2.82842712 3.        ]\n",
      "Replace all elements of the said array with 0 which are less than 0.5\n",
      "[0.         1.         1.41421356 1.73205081 2.         2.23606798\n",
      " 2.44948974 2.64575131 2.82842712 3.        ]\n",
      "_________________________________________________\n"
     ]
    }
   ],
   "source": [
    "#Create an array of size 10, and find the square root of every element in the array, if the values less than 0.5, replace them with 0\n",
    "arr = np.arange(10)\n",
    "print(\"arr:\",arr)\n",
    "x=np.sqrt(arr)\n",
    "print(\"square root of every element in the array:\", x)\n",
    "print(\"Replace all elements of the said array with 0 which are less than 0.5\")\n",
    "x[x < 0.5] = 0\n",
    "print(x)\n",
    "print(\"_________________________________________________\")"
   ]
  },
  {
   "cell_type": "code",
   "execution_count": 39,
   "metadata": {},
   "outputs": [
    {
     "name": "stdout",
     "output_type": "stream",
     "text": [
      "[11 11  7 10  5 10]\n",
      "[8 7 6 5 8 4]\n",
      "maximum values between each element of the two arrays: [11 11  7 10  8 10]\n",
      "_________________________________________________\n"
     ]
    }
   ],
   "source": [
    "#Create two random arrays of range 12 and make an array with the maximum values between each element of the two arrays\n",
    "a=np.random.randint(1,12,6)\n",
    "print(a)\n",
    "b=np.random.randint(1,12,6)\n",
    "print(b)\n",
    "m=np.maximum(a,b)\n",
    "print(\"maximum values between each element of the two arrays:\",m)\n",
    "print(\"_________________________________________________\")"
   ]
  },
  {
   "cell_type": "code",
   "execution_count": 40,
   "metadata": {},
   "outputs": [
    {
     "name": "stdout",
     "output_type": "stream",
     "text": [
      "['Bob' 'Joe' 'Will' 'Bob' 'Will' 'Joe' 'Joe']\n",
      "['Bob' 'Joe' 'Will']\n",
      "_________________________________________________\n"
     ]
    }
   ],
   "source": [
    "#Find the unique names and sort them out!\n",
    "names = np.array(['Bob', 'Joe', 'Will', 'Bob', 'Will', 'Joe', 'Joe'])\n",
    "print(names)\n",
    "n=np.unique(names)\n",
    "print(n)\n",
    "print(\"_________________________________________________\")"
   ]
  },
  {
   "cell_type": "code",
   "execution_count": 41,
   "metadata": {},
   "outputs": [
    {
     "name": "stdout",
     "output_type": "stream",
     "text": [
      "[1 2 3 4 5]\n",
      "[5 6 7 8 9]\n",
      "[1 2 3 4]\n",
      "_________________________________________________\n"
     ]
    }
   ],
   "source": [
    "#From array a remove all items present in array b\n",
    "a = np.array([1,2,3,4,5]) \n",
    "print(a)\n",
    "b = np.array([5,6,7,8,9])\n",
    "print(b)\n",
    "result = np.setdiff1d(a, b)\n",
    "print(result)\n",
    "print(\"_________________________________________________\")"
   ]
  },
  {
   "cell_type": "code",
   "execution_count": 42,
   "metadata": {},
   "outputs": [
    {
     "name": "stdout",
     "output_type": "stream",
     "text": [
      "original array: [[34 43 73]\n",
      " [82 22 12]\n",
      " [53 94 66]]\n",
      "Array after deleting column 2 on axis 1\n",
      "[[34 73]\n",
      " [82 12]\n",
      " [53 66]]\n",
      "new Column: [[10 10 10]]\n",
      "Array after inserting column 2\n",
      "[[34 10 73]\n",
      " [82 10 12]\n",
      " [53 10 66]]\n",
      "_________________________________________________\n"
     ]
    }
   ],
   "source": [
    "#Following is the input NumPy array delete column two and insert following new column in its place\n",
    "sampleArray = np.array([[34,43,73],[82,22,12],[53,94,66]])\n",
    "print(\"original array:\",sampleArray)\n",
    "print(\"Array after deleting column 2 on axis 1\")\n",
    "sampleArray = np.delete(sampleArray , 1, axis = 1) \n",
    "print (sampleArray)\n",
    "newColumn = np.array([[10,10,10]])\n",
    "print(\"new Column:\",newColumn)\n",
    "print(\"Array after inserting column 2\")\n",
    "sampleArray = np.insert(sampleArray , 1, newColumn, axis = 1) \n",
    "print (sampleArray)\n",
    "print(\"_________________________________________________\")"
   ]
  },
  {
   "cell_type": "code",
   "execution_count": 43,
   "metadata": {},
   "outputs": [
    {
     "name": "stdout",
     "output_type": "stream",
     "text": [
      "x= [[1. 2. 3.]\n",
      " [4. 5. 6.]]\n",
      "y= [[ 6. 23.]\n",
      " [-1.  7.]\n",
      " [ 8.  9.]]\n",
      "dot product of x and y= 115\n",
      "_________________________________________________\n"
     ]
    }
   ],
   "source": [
    "#Find the dot product of the above two matrix\n",
    "x = np.array([[1., 2., 3.], [4., 5., 6.]]) \n",
    "print(\"x=\",x)\n",
    "y = np.array([[6., 23.], [-1, 7], [8, 9]])\n",
    "print(\"y=\",y)\n",
    "d=np.dot(a, b)\n",
    "print(\"dot product of x and y=\",d)\n",
    "print(\"_________________________________________________\")"
   ]
  },
  {
   "cell_type": "code",
   "execution_count": 44,
   "metadata": {},
   "outputs": [
    {
     "name": "stdout",
     "output_type": "stream",
     "text": [
      "matrix A: [[ 7 12 14  3  6]\n",
      " [ 4 13  3 19  9]\n",
      " [ 2  8  6 15 16]\n",
      " [ 7 18 17 12 14]]\n",
      "cumulative sum of matrix A: [  7  19  33  36  42  46  59  62  81  90  92 100 106 121 137 144 162 179\n",
      " 191 205]\n",
      "_________________________________________________\n"
     ]
    }
   ],
   "source": [
    "#Generate a matrix of 20 random values and find its cumulative sum\n",
    "A = np.random.randint(20, size=(4,5))\n",
    "print(\"matrix A:\",A)\n",
    "CS = np.cumsum(A)\n",
    "print(\"cumulative sum of matrix A:\",CS)\n",
    "print(\"_________________________________________________\")"
   ]
  },
  {
   "cell_type": "markdown",
   "metadata": {},
   "source": [
    "# END"
   ]
  }
 ],
 "metadata": {
  "kernelspec": {
   "display_name": "Python 3",
   "language": "python",
   "name": "python3"
  },
  "language_info": {
   "codemirror_mode": {
    "name": "ipython",
    "version": 3
   },
   "file_extension": ".py",
   "mimetype": "text/x-python",
   "name": "python",
   "nbconvert_exporter": "python",
   "pygments_lexer": "ipython3",
   "version": "3.7.4"
  }
 },
 "nbformat": 4,
 "nbformat_minor": 2
}
